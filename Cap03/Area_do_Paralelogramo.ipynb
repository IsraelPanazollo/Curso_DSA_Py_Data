{
 "cells": [
  {
   "cell_type": "markdown",
   "id": "b07d14ef",
   "metadata": {},
   "source": [
    "Calcular a área de um paralelograma"
   ]
  },
  {
   "cell_type": "markdown",
   "id": "a33aa9c2",
   "metadata": {},
   "source": [
    "Pseudocódigo:\n",
    "\n",
    "Criar as variáveis\n",
    "Obter os valores das variáveis pelo usuário\n",
    "Calcular o valor da área\n",
    "Armazenar o resultado da área\n",
    "Imprimir o valor da área"
   ]
  },
  {
   "cell_type": "code",
   "execution_count": 1,
   "id": "f2a273f3",
   "metadata": {},
   "outputs": [
    {
     "name": "stdout",
     "output_type": "stream",
     "text": [
      "Calculadora de área de paralelogramo\n"
     ]
    }
   ],
   "source": [
    "print(\"Calculadora de área de paralelogramo\")"
   ]
  },
  {
   "cell_type": "code",
   "execution_count": 2,
   "id": "9e748077",
   "metadata": {},
   "outputs": [
    {
     "name": "stdout",
     "output_type": "stream",
     "text": [
      "Digite a base:4\n"
     ]
    }
   ],
   "source": [
    "base = float(input(\"Digite a base:\"))"
   ]
  },
  {
   "cell_type": "code",
   "execution_count": 3,
   "id": "a9cea631",
   "metadata": {},
   "outputs": [
    {
     "name": "stdout",
     "output_type": "stream",
     "text": [
      "Digite a altura:6\n"
     ]
    }
   ],
   "source": [
    "altura = float(input(\"Digite a altura:\"))"
   ]
  },
  {
   "cell_type": "code",
   "execution_count": 4,
   "id": "590abf2c",
   "metadata": {},
   "outputs": [],
   "source": [
    "area = base * altura"
   ]
  },
  {
   "cell_type": "code",
   "execution_count": 5,
   "id": "970bc982",
   "metadata": {},
   "outputs": [
    {
     "name": "stdout",
     "output_type": "stream",
     "text": [
      "A área é: 24.0\n"
     ]
    }
   ],
   "source": [
    "print(\"A área é:\", area)"
   ]
  }
 ],
 "metadata": {
  "kernelspec": {
   "display_name": "Python 3 (ipykernel)",
   "language": "python",
   "name": "python3"
  },
  "language_info": {
   "codemirror_mode": {
    "name": "ipython",
    "version": 3
   },
   "file_extension": ".py",
   "mimetype": "text/x-python",
   "name": "python",
   "nbconvert_exporter": "python",
   "pygments_lexer": "ipython3",
   "version": "3.9.13"
  }
 },
 "nbformat": 4,
 "nbformat_minor": 5
}
