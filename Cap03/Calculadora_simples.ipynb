{
 "cells": [
  {
   "cell_type": "markdown",
   "id": "6938392b",
   "metadata": {},
   "source": [
    "Calculadora simples"
   ]
  },
  {
   "cell_type": "markdown",
   "id": "d57abd49",
   "metadata": {},
   "source": [
    "Pseudocódigo:\n",
    "    \n",
    "Apresentar o programa\n",
    "Digitar primeiro número\n",
    "Digitar operação\n",
    "Digitar segundo número\n",
    "Realizar cálculo\n",
    "Imprimir resultado"
   ]
  },
  {
   "cell_type": "code",
   "execution_count": 28,
   "id": "ad2ab622",
   "metadata": {},
   "outputs": [
    {
     "name": "stdout",
     "output_type": "stream",
     "text": [
      "Calculador simples\n"
     ]
    }
   ],
   "source": [
    "print(\"Calculador simples\")"
   ]
  },
  {
   "cell_type": "code",
   "execution_count": 29,
   "id": "3300076a",
   "metadata": {},
   "outputs": [
    {
     "name": "stdout",
     "output_type": "stream",
     "text": [
      "Digite um número:7\n"
     ]
    }
   ],
   "source": [
    "num1 = float(input(\"Digite um número:\"))"
   ]
  },
  {
   "cell_type": "code",
   "execution_count": 30,
   "id": "f6fca85a",
   "metadata": {},
   "outputs": [
    {
     "name": "stdout",
     "output_type": "stream",
     "text": [
      "Digite uma operação (+, -, *, /):-3\n"
     ]
    }
   ],
   "source": [
    "operacao = input(\"Digite uma operação (+, -, *, /):\")"
   ]
  },
  {
   "cell_type": "code",
   "execution_count": 31,
   "id": "ea87bc08",
   "metadata": {},
   "outputs": [
    {
     "name": "stdout",
     "output_type": "stream",
     "text": [
      "Digite um número:5\n"
     ]
    }
   ],
   "source": [
    "num2 = float(input(\"Digite um número:\"))"
   ]
  },
  {
   "cell_type": "code",
   "execution_count": 32,
   "id": "6c51af1e",
   "metadata": {},
   "outputs": [
    {
     "name": "stdout",
     "output_type": "stream",
     "text": [
      "Operação inválida\n"
     ]
    }
   ],
   "source": [
    "if operacao == \"+\":\n",
    "    resultado = num1 + num2\n",
    "    print(\"O resultado é: \", resultado)\n",
    "elif operacao == \"-\":\n",
    "    resultado = num1 - num2\n",
    "    print(\"O resultado é: \", resultado)\n",
    "elif operacao == \"*\":\n",
    "    resultado = num1 * num2\n",
    "    print(\"O resultado é: \", resultado)\n",
    "elif operacao == \"/\":\n",
    "    if num2 == 0:\n",
    "        print(\"Não pode dividir por zero\")\n",
    "    else:\n",
    "        resultado = num1/num2\n",
    "        print(\"O resultado é: \", resultado)\n",
    "else:\n",
    "    print(\"Operação inválida\")"
   ]
  }
 ],
 "metadata": {
  "kernelspec": {
   "display_name": "Python 3 (ipykernel)",
   "language": "python",
   "name": "python3"
  },
  "language_info": {
   "codemirror_mode": {
    "name": "ipython",
    "version": 3
   },
   "file_extension": ".py",
   "mimetype": "text/x-python",
   "name": "python",
   "nbconvert_exporter": "python",
   "pygments_lexer": "ipython3",
   "version": "3.9.13"
  }
 },
 "nbformat": 4,
 "nbformat_minor": 5
}
