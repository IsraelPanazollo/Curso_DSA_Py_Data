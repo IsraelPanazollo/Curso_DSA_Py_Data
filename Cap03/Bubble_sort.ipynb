{
 "cells": [
  {
   "cell_type": "markdown",
   "id": "657db804",
   "metadata": {},
   "source": [
    "Desenvolver o algoritmo de Bubble sort"
   ]
  },
  {
   "attachments": {},
   "cell_type": "markdown",
   "id": "9fc1de3a",
   "metadata": {},
   "source": [
    "Pseudocódigo:\n",
    " \n",
    "Digitar uma série de números\n",
    "Comparar o primeiro com segundo\n",
    "Se o primeiro for maior deve trocar de lugar\n",
    "Comparar todos os números até ficar com a série em ordem crescente \n",
    "Exibir a série corrigida"
   ]
  },
  {
   "cell_type": "code",
   "execution_count": 1,
   "id": "9f41e01b",
   "metadata": {
    "scrolled": true
   },
   "outputs": [
    {
     "name": "stdout",
     "output_type": "stream",
     "text": [
      "Digite o tamanho da lista: 3\n",
      "Digite o número que irá para a lista: 5\n",
      "Digite o número que irá para a lista: 1\n",
      "Digite o número que irá para a lista: 4\n",
      "A lista completa é:  [5.0, 1.0, 4.0]\n"
     ]
    }
   ],
   "source": [
    "lista = []\n",
    "\n",
    "n = int(input(\"Digite o tamanho da lista: \"))\n",
    "\n",
    "for i in range(n):\n",
    "    num = float(input(\"Digite o número que irá para a lista: \"))\n",
    "    lista.append(num)\n",
    "\n",
    "print(\"A lista completa é: \", lista)"
   ]
  },
  {
   "cell_type": "code",
   "execution_count": 2,
   "id": "452f9329",
   "metadata": {},
   "outputs": [],
   "source": [
    "def bubble_sort(lista):\n",
    "    \n",
    "    n = len (lista)\n",
    "    \n",
    "    for i in range(n):\n",
    "            for j in range(n-i-1):\n",
    "                if lista[j] > lista[j+1]:\n",
    "                    aux = lista[j]\n",
    "                    lista[j] = lista[j+1]\n",
    "                    lista[j+1] = aux\n",
    "    return lista"
   ]
  },
  {
   "cell_type": "code",
   "execution_count": 3,
   "id": "b169f624",
   "metadata": {},
   "outputs": [
    {
     "name": "stdout",
     "output_type": "stream",
     "text": [
      "[1.0, 4.0, 5.0]\n"
     ]
    }
   ],
   "source": [
    "print(bubble_sort(lista))"
   ]
  },
  {
   "cell_type": "code",
   "execution_count": null,
   "id": "e4e4c2c9",
   "metadata": {},
   "outputs": [],
   "source": []
  }
 ],
 "metadata": {
  "kernelspec": {
   "display_name": "Python 3 (ipykernel)",
   "language": "python",
   "name": "python3"
  },
  "language_info": {
   "codemirror_mode": {
    "name": "ipython",
    "version": 3
   },
   "file_extension": ".py",
   "mimetype": "text/x-python",
   "name": "python",
   "nbconvert_exporter": "python",
   "pygments_lexer": "ipython3",
   "version": "3.9.13"
  }
 },
 "nbformat": 4,
 "nbformat_minor": 5
}
