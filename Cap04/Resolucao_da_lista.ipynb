{
 "cells": [
  {
   "cell_type": "code",
   "execution_count": 1,
   "id": "7b0c71c9",
   "metadata": {},
   "outputs": [],
   "source": [
    "# Exercício 1 - Imprima na tela os números de 1 a 10. Use uma lista para armazenar os números."
   ]
  },
  {
   "cell_type": "code",
   "execution_count": 2,
   "id": "9ca5f983",
   "metadata": {},
   "outputs": [
    {
     "name": "stdout",
     "output_type": "stream",
     "text": [
      "[1, 2, 3, 4, 5, 6, 7, 8, 9, 10]\n"
     ]
    }
   ],
   "source": [
    "lista1 = [num for num in range(1,11)]\n",
    "print(lista1)"
   ]
  },
  {
   "cell_type": "code",
   "execution_count": 3,
   "id": "2f9cb4fb",
   "metadata": {},
   "outputs": [],
   "source": [
    "# Exercício 2 - Crie uma lista de 5 objetos e imprima na tela"
   ]
  },
  {
   "cell_type": "code",
   "execution_count": 4,
   "id": "6ec06700",
   "metadata": {},
   "outputs": [
    {
     "name": "stdout",
     "output_type": "stream",
     "text": [
      "['faca', 'garfo', 'colher', 'prato', 'copo']\n"
     ]
    }
   ],
   "source": [
    "lista2 = [\"faca\", \"garfo\", \"colher\", \"prato\", \"copo\"]\n",
    "print(lista2)"
   ]
  },
  {
   "cell_type": "code",
   "execution_count": 5,
   "id": "8d5f9fdc",
   "metadata": {},
   "outputs": [],
   "source": [
    "# Exercício 3 - Crie duas strings e concatene as duas em uma terceira string"
   ]
  },
  {
   "cell_type": "code",
   "execution_count": 6,
   "id": "ce0d33a3",
   "metadata": {},
   "outputs": [
    {
     "name": "stdout",
     "output_type": "stream",
     "text": [
      "Olá Mundo\n"
     ]
    }
   ],
   "source": [
    "frase1 = \"Olá\"\n",
    "frase2 = \"Mundo\"\n",
    "frase3 = frase1 + \" \" + frase2\n",
    "print(frase3)"
   ]
  },
  {
   "cell_type": "code",
   "execution_count": 7,
   "id": "17ff88ee",
   "metadata": {},
   "outputs": [],
   "source": [
    "# Exercício 4 - Crie uma tupla com os seguintes elementos: 1, 2, 2, 3, 4, 4, 4, 5 e depois utilize a função count do \n",
    "# objeto tupla para verificar quantas vezes o número 4 aparece na tupla"
   ]
  },
  {
   "cell_type": "code",
   "execution_count": 8,
   "id": "c315add0",
   "metadata": {},
   "outputs": [
    {
     "name": "stdout",
     "output_type": "stream",
     "text": [
      "2\n"
     ]
    }
   ],
   "source": [
    "tupla1 = (1, 2, 2, 3, 4, 4, 5)\n",
    "print(tupla1.count(4))"
   ]
  },
  {
   "cell_type": "code",
   "execution_count": 9,
   "id": "af1c326c",
   "metadata": {},
   "outputs": [],
   "source": [
    "# Exercício 5 - Crie um dicionário vazio e imprima na tela"
   ]
  },
  {
   "cell_type": "code",
   "execution_count": 10,
   "id": "1a7df372",
   "metadata": {},
   "outputs": [
    {
     "name": "stdout",
     "output_type": "stream",
     "text": [
      "{}\n"
     ]
    }
   ],
   "source": [
    "dict1 = {}\n",
    "print(dict1)"
   ]
  },
  {
   "cell_type": "code",
   "execution_count": 11,
   "id": "72385e40",
   "metadata": {},
   "outputs": [],
   "source": [
    "# Exercício 6 - Crie um dicionário com 3 chaves e 3 valores e imprima na tela"
   ]
  },
  {
   "cell_type": "code",
   "execution_count": 12,
   "id": "717845e4",
   "metadata": {},
   "outputs": [
    {
     "name": "stdout",
     "output_type": "stream",
     "text": [
      "{'A': 3, 'B': 4, 'C': 5}\n"
     ]
    }
   ],
   "source": [
    "dict2 = {\"A\": 3, \"B\": 4, \"C\": 5}\n",
    "print(dict2)"
   ]
  },
  {
   "cell_type": "code",
   "execution_count": 13,
   "id": "ec71061d",
   "metadata": {},
   "outputs": [],
   "source": [
    "# Exercício 7 - Adicione mais um elemento ao dicionário criado no exercício anterior e imprima na tela"
   ]
  },
  {
   "cell_type": "code",
   "execution_count": 14,
   "id": "b2415cb9",
   "metadata": {},
   "outputs": [
    {
     "name": "stdout",
     "output_type": "stream",
     "text": [
      "{'A': 3, 'B': 4, 'C': 5, 'D': 6}\n"
     ]
    }
   ],
   "source": [
    "dict2[\"D\"] = 6\n",
    "print(dict2)"
   ]
  },
  {
   "cell_type": "code",
   "execution_count": 15,
   "id": "6bbda77a",
   "metadata": {},
   "outputs": [],
   "source": [
    "# Exercício 8 - Crie um dicionário com 3 chaves e 3 valores. \n",
    "# Um dos valores deve ser uma lista de 2 elementos numéricos. \n",
    "# Imprima o dicionário na tela."
   ]
  },
  {
   "cell_type": "code",
   "execution_count": 16,
   "id": "0783347c",
   "metadata": {},
   "outputs": [
    {
     "name": "stdout",
     "output_type": "stream",
     "text": [
      "{'1': 0, '2': [1, 2], '3': 3}\n"
     ]
    }
   ],
   "source": [
    "dict3 = {\"1\": 0, \"2\": [1, 2], \"3\": 3 }\n",
    "print(dict3)"
   ]
  },
  {
   "cell_type": "code",
   "execution_count": 17,
   "id": "fffcc61c",
   "metadata": {},
   "outputs": [],
   "source": [
    "# Exercício 9 - Crie uma lista de 4 elementos. O primeiro elemento deve ser uma string, \n",
    "# o segundo uma tupla de 2 elementos, o terceiro um dcionário com 2 chaves e 2 valores e \n",
    "# o quarto elemento um valor do tipo float.\n",
    "# Imprima a lista."
   ]
  },
  {
   "cell_type": "code",
   "execution_count": 18,
   "id": "111ce69d",
   "metadata": {},
   "outputs": [
    {
     "name": "stdout",
     "output_type": "stream",
     "text": [
      "['Texto', (1, '1'), {'A': 0, 'B': '0'}, 3.14]\n"
     ]
    }
   ],
   "source": [
    "lista3 = [\"Texto\", (1, \"1\"), {\"A\": 0, \"B\": \"0\"}, 3.14 ]\n",
    "print(lista3)"
   ]
  },
  {
   "cell_type": "code",
   "execution_count": 19,
   "id": "6aca04e7",
   "metadata": {},
   "outputs": [],
   "source": [
    "# Exercício 10 - Considere a string abaixo. Imprima na tela apenas os caracteres da posição 1 a 18.\n",
    "frase = 'Cientista de Dados é o profissional mais sexy do século XXI'"
   ]
  },
  {
   "cell_type": "code",
   "execution_count": 21,
   "id": "38f6511d",
   "metadata": {},
   "outputs": [
    {
     "name": "stdout",
     "output_type": "stream",
     "text": [
      "Cientista de Dados\n"
     ]
    }
   ],
   "source": [
    "print(frase[0:18])"
   ]
  },
  {
   "cell_type": "code",
   "execution_count": null,
   "id": "3a472057",
   "metadata": {},
   "outputs": [],
   "source": []
  }
 ],
 "metadata": {
  "kernelspec": {
   "display_name": "Python 3 (ipykernel)",
   "language": "python",
   "name": "python3"
  },
  "language_info": {
   "codemirror_mode": {
    "name": "ipython",
    "version": 3
   },
   "file_extension": ".py",
   "mimetype": "text/x-python",
   "name": "python",
   "nbconvert_exporter": "python",
   "pygments_lexer": "ipython3",
   "version": "3.9.13"
  }
 },
 "nbformat": 4,
 "nbformat_minor": 5
}
