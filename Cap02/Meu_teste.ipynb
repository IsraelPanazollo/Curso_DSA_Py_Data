{
 "cells": [
  {
   "cell_type": "code",
   "execution_count": 1,
   "id": "3310d15e",
   "metadata": {},
   "outputs": [
    {
     "data": {
      "text/plain": [
       "4"
      ]
     },
     "execution_count": 1,
     "metadata": {},
     "output_type": "execute_result"
    }
   ],
   "source": [
    "2+2"
   ]
  },
  {
   "cell_type": "code",
   "execution_count": 2,
   "id": "71c02ed5",
   "metadata": {},
   "outputs": [
    {
     "name": "stdout",
     "output_type": "stream",
     "text": [
      "Olá mundo\n"
     ]
    }
   ],
   "source": [
    "print('Olá mundo')"
   ]
  },
  {
   "cell_type": "markdown",
   "id": "2a8957a7",
   "metadata": {},
   "source": [
    "Gere um código em Python, que cria uma lista com os números entre 1 e 100 e então imprima os números pares, mas somente se o número for divisível por 4"
   ]
  },
  {
   "cell_type": "code",
   "execution_count": 3,
   "id": "44288452",
   "metadata": {},
   "outputs": [
    {
     "name": "stdout",
     "output_type": "stream",
     "text": [
      "Números pares divisíveis por 4 de 1 a 100:\n",
      "[4, 8, 12, 16, 20, 24, 28, 32, 36, 40, 44, 48, 52, 56, 60, 64, 68, 72, 76, 80, 84, 88, 92, 96, 100]\n"
     ]
    }
   ],
   "source": [
    "# Cria uma lista com números de 1 a 100\n",
    "numeros = list(range(1, 101))\n",
    "\n",
    "# Filtra os números pares que são divisíveis por 4\n",
    "numeros_divisiveis_por_4 = [num for num in numeros if num % 2 == 0 and num % 4 == 0]\n",
    "\n",
    "# Imprime os números resultantes\n",
    "print(\"Números pares divisíveis por 4 de 1 a 100:\")\n",
    "print(numeros_divisiveis_por_4)"
   ]
  },
  {
   "cell_type": "code",
   "execution_count": null,
   "id": "d8413a50",
   "metadata": {},
   "outputs": [],
   "source": []
  }
 ],
 "metadata": {
  "kernelspec": {
   "display_name": "Python 3 (ipykernel)",
   "language": "python",
   "name": "python3"
  },
  "language_info": {
   "codemirror_mode": {
    "name": "ipython",
    "version": 3
   },
   "file_extension": ".py",
   "mimetype": "text/x-python",
   "name": "python",
   "nbconvert_exporter": "python",
   "pygments_lexer": "ipython3",
   "version": "3.9.13"
  }
 },
 "nbformat": 4,
 "nbformat_minor": 5
}
