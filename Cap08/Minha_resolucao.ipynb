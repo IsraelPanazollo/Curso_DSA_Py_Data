{
 "cells": [
  {
   "cell_type": "code",
   "execution_count": 9,
   "id": "13245885",
   "metadata": {},
   "outputs": [
    {
     "name": "stdout",
     "output_type": "stream",
     "text": [
      "3 4\n"
     ]
    }
   ],
   "source": [
    "# Exercício 1 - Crie um objeto a partir da classe abaixo, chamado roc1, \n",
    "# passando 2 parâmetros e depois faça uma chamada aos atributos e métodos\n",
    "from math import sqrt\n",
    "\n",
    "class Rocket():\n",
    "     \n",
    "    def __init__(self, x=0, y=0):\n",
    "        self.x = x\n",
    "        self.y = y\n",
    "        \n",
    "    def move_rocket(self, x_increment=0, y_increment=1):\n",
    "        self.x += x_increment\n",
    "        self.y += y_increment\n",
    "        \n",
    "    def print_rocket(self):\n",
    "        print(self.x, self.y)\n",
    "        \n",
    "roc1 = Rocket(1,1)\n",
    "roc1.move_rocket(2,3)\n",
    "roc1.print_rocket()"
   ]
  },
  {
   "cell_type": "code",
   "execution_count": 18,
   "id": "e358a325",
   "metadata": {},
   "outputs": [
    {
     "name": "stdout",
     "output_type": "stream",
     "text": [
      "Fulano\n"
     ]
    }
   ],
   "source": [
    "# Exercício 2 - Crie uma classe chamada Pessoa() com os atributos: nome, cidade, telefone e e-mail. Use pelo menos 2\n",
    "# métodos especiais na sua classe. Crie um objeto da sua classe e faça uma chamada a pelo menos um dos seus métodos\n",
    "# especiais.\n",
    "\n",
    "class Pessoa():\n",
    "    \n",
    "    def __init__(self, nome, cidade, telefone, email):\n",
    "        self.nome = nome\n",
    "        self.cidade = cidade\n",
    "        self.telefone = telefone\n",
    "        self.email = email\n",
    "    \n",
    "    def setnome(self, novo_nome):\n",
    "        self.nome = novo_nome\n",
    "    \n",
    "    def setcidade(self, nova_cidade):\n",
    "        self.cidade = nova_cidade\n",
    "    \n",
    "    def settelefone(self, novo_telefone):\n",
    "        self.telefone = nova_telefone\n",
    "    \n",
    "    def setemail(self, novo_email):\n",
    "        self.email = nova_email\n",
    "        \n",
    "    def getnome(self):\n",
    "        print(self.nome) \n",
    "    \n",
    "    def getemail(self):\n",
    "        print(self.email)\n",
    "       \n",
    "    def getcidade(self):\n",
    "        print(self.cidade) \n",
    "    \n",
    "    def gettelefone(self):\n",
    "        print(self.telefone)\n",
    "\n",
    "        \n",
    "Fulano1 = Pessoa(\"Fulano\", \"City\", \"00000000\", \"fulano@123.com\")\n",
    "\n",
    "Fulano1.getnome()"
   ]
  },
  {
   "cell_type": "code",
   "execution_count": 38,
   "id": "c7389ba9",
   "metadata": {},
   "outputs": [],
   "source": [
    "# Exercício 3 - Crie a classe Smartphone com 2 atributos, tamanho e interface e crie a classe MP3Player com os \n",
    "# atributos capacidade. A classe MP3player deve herdar os atributos da classe Smartphone.\n",
    "\n",
    "class Smartphone():\n",
    "    \n",
    "    def __init__(self, tamanho, interface):\n",
    "        self.tamanho = tamanho\n",
    "        self.interface = interface\n",
    "\n",
    "class MP3Player(Smartphone):\n",
    "    \n",
    "    def __init__(self, capacidade):\n",
    "        self.capacidade = capacidade\n",
    "        \n",
    "    def settamanho(self, novo_tamanho):\n",
    "        self.tamanho = novo_tamanho\n",
    "        \n",
    "\n"
   ]
  },
  {
   "cell_type": "code",
   "execution_count": 43,
   "id": "8833a28d",
   "metadata": {},
   "outputs": [
    {
     "name": "stdout",
     "output_type": "stream",
     "text": [
      "1TB\n",
      "Grande\n"
     ]
    }
   ],
   "source": [
    "Celular = Smartphone(\"Pequeno\",\"LED\")\n",
    "\n",
    "Aparelho = MP3Player(\"1TB\")\n",
    "\n",
    "print(Aparelho.capacidade)\n",
    "\n",
    "Aparelho.settamanho(\"Grande\")\n",
    "\n",
    "print(Aparelho.tamanho)\n"
   ]
  },
  {
   "cell_type": "code",
   "execution_count": null,
   "id": "afbdcb71",
   "metadata": {},
   "outputs": [],
   "source": []
  }
 ],
 "metadata": {
  "kernelspec": {
   "display_name": "Python 3 (ipykernel)",
   "language": "python",
   "name": "python3"
  },
  "language_info": {
   "codemirror_mode": {
    "name": "ipython",
    "version": 3
   },
   "file_extension": ".py",
   "mimetype": "text/x-python",
   "name": "python",
   "nbconvert_exporter": "python",
   "pygments_lexer": "ipython3",
   "version": "3.9.13"
  }
 },
 "nbformat": 4,
 "nbformat_minor": 5
}
